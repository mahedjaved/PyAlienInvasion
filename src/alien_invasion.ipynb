{
 "cells": [
  {
   "cell_type": "code",
   "execution_count": 1,
   "metadata": {},
   "outputs": [
    {
     "name": "stdout",
     "output_type": "stream",
     "text": [
      "pygame 2.5.2 (SDL 2.28.3, Python 3.8.18)\n",
      "Hello from the pygame community. https://www.pygame.org/contribute.html\n"
     ]
    }
   ],
   "source": [
    "import sys\n",
    "import pygame"
   ]
  },
  {
   "cell_type": "code",
   "execution_count": 5,
   "metadata": {},
   "outputs": [],
   "source": [
    "class AlienInvasion:\n",
    "    \"\"\"\n",
    "    @desc : main class to manage game assets and behaviour\n",
    "    \"\"\"\n",
    "\n",
    "    def __init__(self):\n",
    "        pygame.init()\n",
    "        self.screen = pygame.display.set_mode((1200, 800))\n",
    "\n",
    "        # set caption of the game\n",
    "        pygame.display.set_caption(\"Alien Invasion\")\n",
    "\n",
    "    def run_game(self):\n",
    "        \"\"\"\n",
    "        @desc: Start the main loop, thw game is controlled through the logic within this loop\n",
    "        \"\"\"\n",
    "        while True:\n",
    "            # watch for keyboard and mouse events, events are actions users perform, pygame.event.get() returns the list of events that have take place since the last time this function was called\n",
    "            for event in pygame.event.get():\n",
    "                if event.type == pygame.QUIT:\n",
    "                    sys.exit()\n",
    "\n",
    "            # make the most recent drawn screen visible\n",
    "            pygame.display.flip()\n",
    "        "
   ]
  },
  {
   "cell_type": "code",
   "execution_count": null,
   "metadata": {},
   "outputs": [],
   "source": [
    "ai_game = AlienInvasion()\n",
    "ai_game.run_game()"
   ]
  },
  {
   "cell_type": "code",
   "execution_count": null,
   "metadata": {},
   "outputs": [],
   "source": []
  }
 ],
 "metadata": {
  "kernelspec": {
   "display_name": "pygame",
   "language": "python",
   "name": "python3"
  },
  "language_info": {
   "codemirror_mode": {
    "name": "ipython",
    "version": 3
   },
   "file_extension": ".py",
   "mimetype": "text/x-python",
   "name": "python",
   "nbconvert_exporter": "python",
   "pygments_lexer": "ipython3",
   "version": "3.8.18"
  }
 },
 "nbformat": 4,
 "nbformat_minor": 2
}
